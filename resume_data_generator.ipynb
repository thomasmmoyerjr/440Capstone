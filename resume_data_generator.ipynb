{
 "cells": [
  {
   "cell_type": "code",
   "execution_count": 1,
   "metadata": {},
   "outputs": [],
   "source": [
    "import pandas as pd\n",
    "import numpy as np"
   ]
  },
  {
   "cell_type": "code",
   "execution_count": 2,
   "metadata": {},
   "outputs": [],
   "source": [
    "data = pd.read_excel('resume_entries.xlsx', header=1)[:2003].dropna().iloc[:,[1,4,6]].reset_index(drop=1)\n",
    "data['skillTagsID'] = data['skillTagsID'].astype('str')"
   ]
  },
  {
   "cell_type": "code",
   "execution_count": 3,
   "metadata": {},
   "outputs": [],
   "source": [
    "idlist = list(data.iloc[:,1].values)\n",
    "taglist = []\n",
    "for i in idlist:\n",
    "    if type(i) != 'int':\n",
    "        split = i.split(',')\n",
    "    for j in split:\n",
    "        taglist.append(int(j))\n",
    "\n",
    "taglist = sorted(list(pd.Series(taglist).unique()))\n",
    "tagtable = pd.DataFrame(np.zeros([1883,18]), columns=taglist)\n",
    "data = pd.concat([data, tagtable], axis=1)"
   ]
  },
  {
   "cell_type": "code",
   "execution_count": 4,
   "metadata": {},
   "outputs": [],
   "source": [
    "for i in range(len(data)):\n",
    "    for tag in data.loc[i,'skillTagsID'].split(','):\n",
    "        data.loc[i, int(tag)] = 1"
   ]
  },
  {
   "cell_type": "code",
   "execution_count": 5,
   "metadata": {},
   "outputs": [],
   "source": [
    "data.to_csv('resumeSkillsData.csv')"
   ]
  },
  {
   "cell_type": "code",
   "execution_count": null,
   "metadata": {},
   "outputs": [],
   "source": []
  }
 ],
 "metadata": {
  "kernelspec": {
   "display_name": "Python 3",
   "language": "python",
   "name": "python3"
  },
  "language_info": {
   "codemirror_mode": {
    "name": "ipython",
    "version": 3
   },
   "file_extension": ".py",
   "mimetype": "text/x-python",
   "name": "python",
   "nbconvert_exporter": "python",
   "pygments_lexer": "ipython3",
   "version": "3.8.5"
  }
 },
 "nbformat": 4,
 "nbformat_minor": 4
}
