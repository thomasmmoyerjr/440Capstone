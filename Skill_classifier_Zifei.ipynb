{
 "cells": [
  {
   "cell_type": "code",
   "execution_count": 19,
   "metadata": {},
   "outputs": [],
   "source": [
    "import numpy as np\n",
    "import pandas as pd\n",
    "from sklearn.feature_extraction.text import TfidfVectorizer\n",
    "from sklearn.ensemble import RandomForestClassifier, VotingClassifier, GradientBoostingClassifier\n",
    "from sklearn.svm import SVC\n",
    "from sklearn.model_selection import train_test_split\n",
    "from sklearn.metrics import confusion_matrix\n",
    "from sklearn.metrics import f1_score\n",
    "from sklearn.model_selection import GridSearchCV"
   ]
  },
  {
   "cell_type": "code",
   "execution_count": 20,
   "metadata": {},
   "outputs": [],
   "source": [
    "### Data Pre-processing ###\n",
    "data = pd.read_csv('random_f_data.csv').dropna() # there are five rows with na value on the text column, drop it out.\n",
    "text = data['expDescription'] # get the text data\n",
    "data.drop(['Unnamed: 0', 'ownerID','school', 'expDescription'],axis=1,inplace=True) # remove unrelated columns\n",
    "tv = TfidfVectorizer() # TF-IDF vectorizer\n",
    "X = tv.fit_transform(text) # Vectorize the text data with TF-IDF\n",
    "skills = ['4', '8', '10', '11', '19'] # create a list of all skills we want to predict for later use"
   ]
  },
  {
   "cell_type": "code",
   "execution_count": 3,
   "metadata": {},
   "outputs": [],
   "source": [
    "### Grid Search ###\n",
    "def gridSearch(skillID, model, param):\n",
    "    y = data[str(skillID)]  # get the target column\n",
    "    X_train, X_test, y_train, y_test = train_test_split(X, y, test_size=0.2, random_state=42) # make train test dataset\n",
    "    gscv = GridSearchCV(model, param, scoring='f1', n_jobs=-1) # use cross validation to search the best parameters\n",
    "    gscv.fit(X_train, y_train)\n",
    "    y_predict = gscv.predict(X_test) # predict the result\n",
    "    cm = confusion_matrix(y_test, y_predict) # get the confusion matrics\n",
    "    print('For skill', str(skillID), '\\n', 'Confusion Matrix:\\n', cm, '\\n', 'best parameters:', gscv.best_params_)"
   ]
  },
  {
   "cell_type": "code",
   "execution_count": 4,
   "metadata": {},
   "outputs": [
    {
     "name": "stdout",
     "output_type": "stream",
     "text": [
      "For skill 4 \n",
      " Confusion Matrix:\n",
      " [[514 148]\n",
      " [194 132]] \n",
      " best parameters: {'min_samples_split': 6, 'n_estimators': 150}\n",
      "For skill 8 \n",
      " Confusion Matrix:\n",
      " [[528 151]\n",
      " [192 117]] \n",
      " best parameters: {'min_samples_split': 6, 'n_estimators': 50}\n",
      "For skill 10 \n",
      " Confusion Matrix:\n",
      " [[708  61]\n",
      " [196  23]] \n",
      " best parameters: {'min_samples_split': 6, 'n_estimators': 50}\n",
      "For skill 11 \n",
      " Confusion Matrix:\n",
      " [[377 222]\n",
      " [144 245]] \n",
      " best parameters: {'min_samples_split': 6, 'n_estimators': 150}\n",
      "For skill 19 \n",
      " Confusion Matrix:\n",
      " [[421 198]\n",
      " [200 169]] \n",
      " best parameters: {'min_samples_split': 6, 'n_estimators': 150}\n"
     ]
    }
   ],
   "source": [
    "rf = RandomForestClassifier(class_weight={0:0.1, 1:0.9})    # create random forest model\n",
    "rf_param = {'min_samples_split': range(2,7,2),       # parameters for grid search\n",
    "              'n_estimators': range(50,151,20)}\n",
    "\n",
    "for skill in skills:\n",
    "    gridSearch(skill, rf, rf_param)"
   ]
  },
  {
   "cell_type": "code",
   "execution_count": 5,
   "metadata": {},
   "outputs": [
    {
     "name": "stdout",
     "output_type": "stream",
     "text": [
      "For skill 4 \n",
      " Confusion Matrix:\n",
      " [[632  30]\n",
      " [268  58]] \n",
      " best parameters: {'min_samples_split': 2, 'n_estimators': 150}\n",
      "For skill 8 \n",
      " Confusion Matrix:\n",
      " [[648  31]\n",
      " [270  39]] \n",
      " best parameters: {'min_samples_split': 6, 'n_estimators': 150}\n",
      "For skill 10 \n",
      " Confusion Matrix:\n",
      " [[755  14]\n",
      " [195  24]] \n",
      " best parameters: {'min_samples_split': 6, 'n_estimators': 150}\n",
      "For skill 11 \n",
      " Confusion Matrix:\n",
      " [[532  67]\n",
      " [248 141]] \n",
      " best parameters: {'min_samples_split': 2, 'n_estimators': 150}\n",
      "For skill 19 \n",
      " Confusion Matrix:\n",
      " [[577  42]\n",
      " [300  69]] \n",
      " best parameters: {'min_samples_split': 2, 'n_estimators': 150}\n"
     ]
    }
   ],
   "source": [
    "gb = GradientBoostingClassifier()    # create gradient boosting model\n",
    "gb_param = {'min_samples_split': range(2,7,2),   # parameters for grid search\n",
    "              'n_estimators': range(50,151,20)}\n",
    "\n",
    "for skill in skills:\n",
    "    gridSearch(skill, gb, rf_param)"
   ]
  },
  {
   "cell_type": "code",
   "execution_count": 12,
   "metadata": {},
   "outputs": [],
   "source": [
    "### Use best parameters found on the grid search to build models ###\n",
    "svc = SVC(gamma='auto')\n",
    "rf = RandomForestClassifier(class_weight={0:0.1, 1:0.9}, min_samples_split=6, n_estimators=150)\n",
    "gb = GradientBoostingClassifier(min_samples_split=6, n_estimators=150)\n",
    "voting = VotingClassifier(estimators=[('rf', rf), ('gb', gb), ('svc', svc)], voting='hard')"
   ]
  },
  {
   "cell_type": "code",
   "execution_count": 18,
   "metadata": {},
   "outputs": [
    {
     "name": "stdout",
     "output_type": "stream",
     "text": [
      "For skill 4 \n",
      " Confusion Matrix:\n",
      " [[650  12]\n",
      " [288  38]]\n",
      "For skill 8 \n",
      " Confusion Matrix:\n",
      " [[666  13]\n",
      " [279  30]]\n",
      "For skill 10 \n",
      " Confusion Matrix:\n",
      " [[767   2]\n",
      " [211   8]]\n",
      "For skill 11 \n",
      " Confusion Matrix:\n",
      " [[547  52]\n",
      " [264 125]]\n",
      "For skill 19 \n",
      " Confusion Matrix:\n",
      " [[597  22]\n",
      " [318  51]]\n"
     ]
    }
   ],
   "source": [
    "### train and run the voting classifier, get the confusion matrics ###\n",
    "for skill in skills:\n",
    "    y = data[skill]\n",
    "    X_train, X_test, y_train, y_test = train_test_split(X, y, test_size=0.2, random_state=42)\n",
    "    voting = VotingClassifier(estimators=[('rf', rf), ('gb', gb), ('svc', svc)], voting='hard')\n",
    "    voting.fit(X_train, y_train)\n",
    "    y_pred = voting.predict(X_test)\n",
    "    cm = confusion_matrix(y_test, y_pred)\n",
    "    print('For skill', skill, '\\n', 'Confusion Matrix:\\n', cm)"
   ]
  }
 ],
 "metadata": {
  "kernelspec": {
   "display_name": "Python 3",
   "language": "python",
   "name": "python3"
  },
  "language_info": {
   "codemirror_mode": {
    "name": "ipython",
    "version": 3
   },
   "file_extension": ".py",
   "mimetype": "text/x-python",
   "name": "python",
   "nbconvert_exporter": "python",
   "pygments_lexer": "ipython3",
   "version": "3.8.5"
  }
 },
 "nbformat": 4,
 "nbformat_minor": 4
}
